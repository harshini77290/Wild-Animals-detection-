{
  "nbformat": 4,
  "nbformat_minor": 0,
  "metadata": {
    "colab": {
      "provenance": []
    },
    "kernelspec": {
      "name": "python3",
      "display_name": "Python 3"
    },
    "language_info": {
      "name": "python"
    }
  },
  "cells": [
    {
      "cell_type": "code",
      "execution_count": null,
      "metadata": {
        "id": "H7_2YRseuIuv"
      },
      "outputs": [],
      "source": [
        "from keras.models import load_model\n",
        "# Load the saved model\n",
        "loaded_model = load_model('/content/drive/MyDrive/Features_Output/model.h5')"
      ]
    },
    {
      "cell_type": "code",
      "source": [
        "pip install twilio"
      ],
      "metadata": {
        "colab": {
          "base_uri": "https://localhost:8080/"
        },
        "id": "2Ncep8roE--5",
        "outputId": "31b4dde2-2d92-4248-efd0-926829f7e38c"
      },
      "execution_count": null,
      "outputs": [
        {
          "output_type": "stream",
          "name": "stdout",
          "text": [
            "Collecting twilio\n",
            "  Downloading twilio-8.11.0-py2.py3-none-any.whl (1.8 MB)\n",
            "\u001b[2K     \u001b[90m━━━━━━━━━━━━━━━━━━━━━━━━━━━━━━━━━━━━━━━━\u001b[0m \u001b[32m1.8/1.8 MB\u001b[0m \u001b[31m8.1 MB/s\u001b[0m eta \u001b[36m0:00:00\u001b[0m\n",
            "\u001b[?25hRequirement already satisfied: requests>=2.0.0 in /usr/local/lib/python3.10/dist-packages (from twilio) (2.31.0)\n",
            "Requirement already satisfied: PyJWT<3.0.0,>=2.0.0 in /usr/lib/python3/dist-packages (from twilio) (2.3.0)\n",
            "Requirement already satisfied: aiohttp>=3.8.4 in /usr/local/lib/python3.10/dist-packages (from twilio) (3.9.1)\n",
            "Collecting aiohttp-retry>=2.8.3 (from twilio)\n",
            "  Downloading aiohttp_retry-2.8.3-py3-none-any.whl (9.8 kB)\n",
            "Requirement already satisfied: attrs>=17.3.0 in /usr/local/lib/python3.10/dist-packages (from aiohttp>=3.8.4->twilio) (23.1.0)\n",
            "Requirement already satisfied: multidict<7.0,>=4.5 in /usr/local/lib/python3.10/dist-packages (from aiohttp>=3.8.4->twilio) (6.0.4)\n",
            "Requirement already satisfied: yarl<2.0,>=1.0 in /usr/local/lib/python3.10/dist-packages (from aiohttp>=3.8.4->twilio) (1.9.4)\n",
            "Requirement already satisfied: frozenlist>=1.1.1 in /usr/local/lib/python3.10/dist-packages (from aiohttp>=3.8.4->twilio) (1.4.0)\n",
            "Requirement already satisfied: aiosignal>=1.1.2 in /usr/local/lib/python3.10/dist-packages (from aiohttp>=3.8.4->twilio) (1.3.1)\n",
            "Requirement already satisfied: async-timeout<5.0,>=4.0 in /usr/local/lib/python3.10/dist-packages (from aiohttp>=3.8.4->twilio) (4.0.3)\n",
            "Requirement already satisfied: charset-normalizer<4,>=2 in /usr/local/lib/python3.10/dist-packages (from requests>=2.0.0->twilio) (3.3.2)\n",
            "Requirement already satisfied: idna<4,>=2.5 in /usr/local/lib/python3.10/dist-packages (from requests>=2.0.0->twilio) (3.6)\n",
            "Requirement already satisfied: urllib3<3,>=1.21.1 in /usr/local/lib/python3.10/dist-packages (from requests>=2.0.0->twilio) (2.0.7)\n",
            "Requirement already satisfied: certifi>=2017.4.17 in /usr/local/lib/python3.10/dist-packages (from requests>=2.0.0->twilio) (2023.11.17)\n",
            "Installing collected packages: aiohttp-retry, twilio\n",
            "Successfully installed aiohttp-retry-2.8.3 twilio-8.11.0\n"
          ]
        }
      ]
    },
    {
      "cell_type": "code",
      "source": [
        "import os\n",
        "import librosa\n",
        "import numpy as np\n",
        "from keras.models import load_model\n",
        "from twilio.rest import Client\n",
        "\n",
        "# Load the saved model\n",
        "model_path = '/content/drive/MyDrive/Features_Output/model.h5'  # Replace with your model's path\n",
        "loaded_model = load_model(model_path)\n",
        "\n",
        "# Twilio credentials\n",
        "twilio_account_sid = 'AC208186482829d1f914494dfaef46984e'\n",
        "twilio_auth_token = 'e9472ec22845dc7ef74e3bdb2811a6d0'\n",
        "twilio_phone_number = '+12058505637'\n",
        "verified_person_phone_number = '+917729071360'  # Replace with the verified person's phone number\n",
        "\n",
        "# Initialize Twilio client\n",
        "client = Client(twilio_account_sid, twilio_auth_token)\n",
        "\n",
        "# Function to extract and preprocess features\n",
        "def extract_and_preprocess_features(audio_path, expected_shape):\n",
        "    try:\n",
        "        # Load the new audio file\n",
        "        audio_data, sample_rate = librosa.load(audio_path, sr=None)\n",
        "\n",
        "        # Extract MFCCs, ZCR, Mel spectrogram, and Chroma features (adjust as needed)\n",
        "        mfccs = librosa.feature.mfcc(y=audio_data, sr=sample_rate, n_mfcc=20)\n",
        "        zcr = librosa.feature.zero_crossing_rate(y=audio_data)\n",
        "        mel_spectrogram = librosa.feature.melspectrogram(y=audio_data, sr=sample_rate)\n",
        "        chroma = librosa.feature.chroma_stft(y=audio_data, sr=sample_rate)\n",
        "\n",
        "        # Calculate the mean of each feature\n",
        "        mfcc_mean = np.mean(mfccs, axis=1)\n",
        "        zcr_mean = np.mean(zcr, axis=1)\n",
        "        mel_mean = np.mean(mel_spectrogram, axis=1)\n",
        "        chroma_mean = np.mean(chroma, axis=1)\n",
        "\n",
        "        # Combine the extracted features into a single feature vector\n",
        "        combined_features = np.concatenate((mfcc_mean, zcr_mean, mel_mean, chroma_mean))\n",
        "\n",
        "        # Ensure that the feature vector shape matches the expected shape\n",
        "        if combined_features.shape[0] < expected_shape[0]:\n",
        "            # Pad the feature vector with zeros\n",
        "            padding = np.zeros(expected_shape[0] - combined_features.shape[0])\n",
        "            combined_features = np.concatenate((combined_features, padding))\n",
        "\n",
        "        return combined_features\n",
        "    except Exception as e:\n",
        "        print(f\"Error processing {audio_path}: {e}\")\n",
        "        return None\n",
        "\n",
        "# Function to send alert via Twilio\n",
        "def send_alert(recipient_phone_number, message):\n",
        "    message = client.messages.create(\n",
        "        to=recipient_phone_number,\n",
        "        from_=twilio_phone_number,\n",
        "        body=message\n",
        "    )\n",
        "    print(f\"Alert message sent to {recipient_phone_number}!\")\n",
        "\n",
        "# Replace 'new_audio_path' with the path to your new audio file\n",
        "new_audio_path = '/content/drive/MyDrive/Animal_Dataset/Tiger/Copy of track 225_augmentedreverb.wav'\n",
        "\n",
        "# Define the expected input shape of the model\n",
        "expected_input_shape = (169, )  # Update with your model's expected input shape\n",
        "\n",
        "# Extract and preprocess features from the new audio file\n",
        "new_audio_features = extract_and_preprocess_features(new_audio_path, expected_input_shape)\n",
        "\n",
        "if new_audio_features is not None:\n",
        "    # Make predictions using the loaded model\n",
        "    predictions = loaded_model.predict(new_audio_features[np.newaxis, :])\n",
        "\n",
        "    # Get the predicted class labels (assuming it's a classification problem)\n",
        "    predicted_class_labels = np.argmax(predictions, axis=1)\n",
        "\n",
        "    # Create a mapping of class codes to class labels\n",
        "    class_label_mapping = {\n",
        "        0: 'Birds',\n",
        "        1: 'Dog',\n",
        "        2: 'Elephant',\n",
        "        3: 'Tiger',\n",
        "        4: 'Other'\n",
        "    }\n",
        "\n",
        "    # Map the class code to class label for the predicted class\n",
        "    predicted_class_name = class_label_mapping[predicted_class_labels[0]]\n",
        "\n",
        "    # Check if a wild animal is detected\n",
        "    if predicted_class_name in ['Birds', 'Dog', 'Elephant', 'Tiger']:\n",
        "        # Send an alert message to the verified person\n",
        "        alert_message = f\"Animal ({predicted_class_name}) detected! Take necessary action.\"\n",
        "        send_alert(verified_person_phone_number, alert_message)\n",
        "    else:\n",
        "        print(\"No such animal detected in the data.\")\n",
        "\n",
        "    # Print the predicted class label for the new audio file\n",
        "    print(f\"Predicted Class Label for {new_audio_path}: {predicted_class_name}\")\n"
      ],
      "metadata": {
        "colab": {
          "base_uri": "https://localhost:8080/"
        },
        "id": "Tp-5qjUDufZ6",
        "outputId": "9b86144f-3d69-4c79-b24e-ed9d6eb157e5"
      },
      "execution_count": null,
      "outputs": [
        {
          "output_type": "stream",
          "name": "stdout",
          "text": [
            "1/1 [==============================] - 0s 118ms/step\n",
            "Alert message sent to +917729071360!\n",
            "Predicted Class Label for /content/drive/MyDrive/Animal_Dataset/Tiger/Copy of track 225_augmentedreverb.wav: Tiger\n"
          ]
        }
      ]
    },
    {
      "cell_type": "code",
      "source": [
        "from google.colab import drive\n",
        "drive.mount('/content/drive')"
      ],
      "metadata": {
        "colab": {
          "base_uri": "https://localhost:8080/"
        },
        "id": "kj09JByFtYvv",
        "outputId": "0aa74c84-218d-4427-96a2-2b2bc5e6c98a"
      },
      "execution_count": null,
      "outputs": [
        {
          "output_type": "stream",
          "name": "stdout",
          "text": [
            "Drive already mounted at /content/drive; to attempt to forcibly remount, call drive.mount(\"/content/drive\", force_remount=True).\n"
          ]
        }
      ]
    }
  ]
}